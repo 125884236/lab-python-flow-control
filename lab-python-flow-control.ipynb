{
 "cells": [
  {
   "cell_type": "markdown",
   "id": "d3bfc191-8885-42ee-b0a0-bbab867c6f9f",
   "metadata": {
    "tags": []
   },
   "source": [
    "# Lab | Flow Control"
   ]
  },
  {
   "cell_type": "markdown",
   "id": "3851fcd1-cf98-4653-9c89-e003b7ec9400",
   "metadata": {},
   "source": [
    "## Exercise: Managing Customer Orders Optimized\n",
    "\n",
    "In the last lab, you were starting an online store that sells various products. To ensure smooth operations, you developed a program that manages customer orders and inventory.\n",
    "\n",
    "You did so without using flow control. Let's go a step further and improve this code.\n",
    "\n",
    "Follow the steps below to complete the exercise:\n",
    "\n",
    "1. Look at your code from the lab data structures, and improve repeated code with loops.\n",
    "\n",
    "2. Instead of asking the user to input the name of three products that a customer wants to order, do the following:\n",
    "    \n",
    "    a. Prompt the user to enter the name of a product that a customer wants to order.\n",
    "    \n",
    "    b. Add the product name to the \"customer_orders\" set.\n",
    "    \n",
    "    c. Ask the user if they want to add another product (yes/no).\n",
    "    \n",
    "    d. Continue the loop until the user does not want to add another product.\n",
    "\n",
    "3. Instead of updating the inventory by subtracting 1 from the quantity of each product, only do it for  the products that were ordered (those in \"customer_orders\")."
   ]
  },
  {
   "cell_type": "code",
   "execution_count": 1,
   "id": "293f3727",
   "metadata": {},
   "outputs": [
    {
     "name": "stdout",
     "output_type": "stream",
     "text": [
      "The stock of products is: {'t-shirt': 5, 'mug': 6, 'hat': 9, 'book': 5, 'keychain': 5}\n"
     ]
    }
   ],
   "source": [
    "products = ['t-shirt', 'mug', 'hat', 'book', 'keychain']\n",
    "inventory = {}\n",
    "\n",
    "for item in products:\n",
    "    stock = (input(f\"Please, enter the quantity of {item} that are in stock: \")).strip()\n",
    "    inventory[item] = int(stock)\n",
    "\n",
    "print(f\"The stock of products is:\", inventory)"
   ]
  },
  {
   "cell_type": "code",
   "execution_count": 2,
   "id": "90b710a7",
   "metadata": {},
   "outputs": [
    {
     "name": "stdout",
     "output_type": "stream",
     "text": [
      "hat added to your order.\n",
      "mug added to your order.\n",
      "You are ordering: {'hat', 'mug'}\n"
     ]
    }
   ],
   "source": [
    "customer_orders = set()\n",
    "\n",
    "while True:\n",
    "    user_input = (input(\"Type the product that you would like to order: \")).lower().strip()\n",
    "    if user_input in inventory:\n",
    "        if user_input not in customer_orders:\n",
    "            customer_orders.add(user_input)\n",
    "            print(f\"{user_input} added to your order.\")\n",
    "        else:\n",
    "            print(f\"{user_input} has already been ordered. Try again!\")\n",
    "    else:\n",
    "        print(f\"{user_input} is not available.\")\n",
    "    \n",
    "    add_more = input(\"Would you like to add another product? Type yes/no: \").strip().lower()\n",
    "    if add_more != 'yes':\n",
    "        break\n",
    "\n",
    "print(\"You are ordering:\", customer_orders)"
   ]
  },
  {
   "cell_type": "code",
   "execution_count": 3,
   "id": "ad150628",
   "metadata": {},
   "outputs": [
    {
     "name": "stdout",
     "output_type": "stream",
     "text": [
      "There are 5 t-shirt left\n",
      "There are 5 mug left\n",
      "There are 8 hat left\n",
      "There are 5 book left\n",
      "There are 5 keychain left\n"
     ]
    }
   ],
   "source": [
    "for product in customer_orders:\n",
    "    if product in inventory:\n",
    "        inventory[product] -= 1\n",
    "\n",
    "for product, stock in inventory.items():\n",
    "    print(f\"There are {stock} {product} left\")"
   ]
  },
  {
   "cell_type": "code",
   "execution_count": null,
   "id": "d627012b",
   "metadata": {},
   "outputs": [],
   "source": []
  }
 ],
 "metadata": {
  "kernelspec": {
   "display_name": "Python 3 (ipykernel)",
   "language": "python",
   "name": "python3"
  },
  "language_info": {
   "codemirror_mode": {
    "name": "ipython",
    "version": 3
   },
   "file_extension": ".py",
   "mimetype": "text/x-python",
   "name": "python",
   "nbconvert_exporter": "python",
   "pygments_lexer": "ipython3",
   "version": "3.11.5"
  }
 },
 "nbformat": 4,
 "nbformat_minor": 5
}
